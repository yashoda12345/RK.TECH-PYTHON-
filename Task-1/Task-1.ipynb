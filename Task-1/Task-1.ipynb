{
 "cells": [
  {
   "cell_type": "markdown",
   "metadata": {},
   "source": [
    "#              Task -1\n",
    "#           EMAIL SLICER"
   ]
  },
  {
   "cell_type": "code",
   "execution_count": 6,
   "metadata": {},
   "outputs": [
    {
     "name": "stdout",
     "output_type": "stream",
     "text": [
      "Input:\n",
      "rktech231@gmail.com\n",
      "Output:\n",
      "Your username is rktech231 & domain is gmail.com\n"
     ]
    }
   ],
   "source": [
    "def email_slicer(email):\n",
    "    # Split the email address into username and domain\n",
    "    username, domain = email.split('@')\n",
    "\n",
    "    # Display the output\n",
    "    print(\"Input:\")\n",
    "    print(email)\n",
    "    print(\"Output:\")\n",
    "    print(f\"Your username is {username} & domain is {domain}\")\n",
    "\n",
    "\n",
    "# Example usage\n",
    "input_email = input(\"Enter the Email ID: \")\n",
    "email_slicer(input_email)   "
   ]
  },
  {
   "cell_type": "code",
   "execution_count": null,
   "metadata": {},
   "outputs": [],
   "source": []
  }
 ],
 "metadata": {
  "kernelspec": {
   "display_name": "Python 3",
   "language": "python",
   "name": "python3"
  },
  "language_info": {
   "codemirror_mode": {
    "name": "ipython",
    "version": 3
   },
   "file_extension": ".py",
   "mimetype": "text/x-python",
   "name": "python",
   "nbconvert_exporter": "python",
   "pygments_lexer": "ipython3",
   "version": "3.11.1"
  }
 },
 "nbformat": 4,
 "nbformat_minor": 2
}
