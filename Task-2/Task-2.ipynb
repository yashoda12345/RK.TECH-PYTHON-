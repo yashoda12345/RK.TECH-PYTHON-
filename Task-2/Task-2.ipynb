{
 "cells": [
  {
   "cell_type": "markdown",
   "metadata": {},
   "source": [
    "#  Task -2\n",
    "#  Number to Words"
   ]
  },
  {
   "cell_type": "code",
   "execution_count": 1,
   "metadata": {},
   "outputs": [
    {
     "name": "stdout",
     "output_type": "stream",
     "text": [
      "3456 spelled out is: three thousand four hundred fifty-six\n"
     ]
    }
   ],
   "source": [
    "def spell_out_number(number):\n",
    "    words = {\n",
    "        0: 'zero', 1: 'one', 2: 'two', 3: 'three', 4: 'four',\n",
    "        5: 'five', 6: 'six', 7: 'seven', 8: 'eight', 9: 'nine',\n",
    "        10: 'ten', 11: 'eleven', 12: 'twelve', 13: 'thirteen',\n",
    "        14: 'fourteen', 15: 'fifteen', 16: 'sixteen', 17: 'seventeen',\n",
    "        18: 'eighteen', 19: 'nineteen', 20: 'twenty', 30: 'thirty',\n",
    "        40: 'forty', 50: 'fifty', 60: 'sixty', 70: 'seventy',\n",
    "        80: 'eighty', 90: 'ninety'\n",
    "    }\n",
    "\n",
    "    if number < 0 or isinstance(number, float):\n",
    "        return \"Please enter a non-negative integer\"\n",
    "\n",
    "    if number == 0:\n",
    "        return 'zero'\n",
    "\n",
    "    def spell_out_helper(num):\n",
    "        if num in words:\n",
    "            return words[num]\n",
    "\n",
    "        if num < 100:\n",
    "            return words[num // 10 * 10] + '-' + words[num % 10]\n",
    "        else:\n",
    "            return words[num // 100] + ' hundred ' + spell_out_helper(num % 100)\n",
    "\n",
    "    if number <= 999:\n",
    "        return spell_out_helper(number)\n",
    "    elif number <= 999999:\n",
    "        return spell_out_helper(number // 1000) + ' thousand ' + spell_out_helper(number % 1000)\n",
    "    else:\n",
    "        return \"Please enter a number less than or equal to 999999\"\n",
    "\n",
    "\n",
    "# Example usage:\n",
    "number_to_spell = int(input(\"Enter the Number: \"))\n",
    "result = spell_out_number(number_to_spell)\n",
    "print(f\"{number_to_spell} spelled out is: {result}\")\n"
   ]
  },
  {
   "cell_type": "code",
   "execution_count": null,
   "metadata": {},
   "outputs": [],
   "source": []
  }
 ],
 "metadata": {
  "kernelspec": {
   "display_name": "Python 3",
   "language": "python",
   "name": "python3"
  },
  "language_info": {
   "codemirror_mode": {
    "name": "ipython",
    "version": 3
   },
   "file_extension": ".py",
   "mimetype": "text/x-python",
   "name": "python",
   "nbconvert_exporter": "python",
   "pygments_lexer": "ipython3",
   "version": "3.11.1"
  }
 },
 "nbformat": 4,
 "nbformat_minor": 2
}
