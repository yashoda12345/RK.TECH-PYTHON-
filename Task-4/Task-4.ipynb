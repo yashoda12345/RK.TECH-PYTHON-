{
 "cells": [
  {
   "cell_type": "markdown",
   "metadata": {},
   "source": [
    "#  Task -4\n",
    "#  Number Guessing"
   ]
  },
  {
   "cell_type": "code",
   "execution_count": 2,
   "metadata": {},
   "outputs": [
    {
     "name": "stdout",
     "output_type": "stream",
     "text": [
      "Welcome to the Guess the Number Game!\n",
      "\n",
      "I have selected a number between 6 and 10. Can you guess it?\n",
      "Congratulations! You've guessed the number 9 in 1 attempts!\n"
     ]
    }
   ],
   "source": [
    "import random\n",
    "\n",
    "def guess_the_number():\n",
    "    print(\"Welcome to the Guess the Number Game!\")\n",
    "\n",
    "    # Set the range for the random number\n",
    "    lower_bound = int(input(\"Enter the lower bound of the range: \"))\n",
    "    upper_bound = int(input(\"Enter the upper bound of the range: \"))\n",
    "\n",
    "    # Generate a random number within the specified range\n",
    "    secret_number = random.randint(lower_bound, upper_bound)\n",
    "\n",
    "    # Set the maximum number of attempts\n",
    "    max_attempts = 5\n",
    "    attempts = 0\n",
    "\n",
    "    print(f\"\\nI have selected a number between {lower_bound} and {upper_bound}. Can you guess it?\")\n",
    "\n",
    "    while attempts < max_attempts:\n",
    "        guess = int(input(\"Enter your guess: \"))\n",
    "        attempts += 1\n",
    "\n",
    "        if guess == secret_number:\n",
    "            print(f\"Congratulations! You've guessed the number {secret_number} in {attempts} attempts!\")\n",
    "            break\n",
    "        elif guess < secret_number:\n",
    "            print(\"Try Again! Your guess was too small.\")\n",
    "        else:\n",
    "            print(\"Try Again! Your guess was too high.\")\n",
    "\n",
    "    else:\n",
    "        print(f\"Better Luck Next Time! The correct number was {secret_number}.\")\n",
    "\n",
    "# Run the game\n",
    "guess_the_number()\n"
   ]
  }
 ],
 "metadata": {
  "kernelspec": {
   "display_name": "Python 3",
   "language": "python",
   "name": "python3"
  },
  "language_info": {
   "codemirror_mode": {
    "name": "ipython",
    "version": 3
   },
   "file_extension": ".py",
   "mimetype": "text/x-python",
   "name": "python",
   "nbconvert_exporter": "python",
   "pygments_lexer": "ipython3",
   "version": "3.11.1"
  }
 },
 "nbformat": 4,
 "nbformat_minor": 2
}
